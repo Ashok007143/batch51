{
 "cells": [
  {
   "cell_type": "code",
   "execution_count": 3,
   "metadata": {},
   "outputs": [
    {
     "name": "stdout",
     "output_type": "stream",
     "text": [
      "enter a number:12\n",
      "(12, 'is not a prime number')\n"
     ]
    }
   ],
   "source": [
    "num=input(\"enter a number:\") #looping\n",
    "if num>1:\n",
    "    for i in range(2,num):\n",
    "        if(num%i)==0:\n",
    "            print(num,\"is not a prime number\")\n",
    "            break\n",
    "    else:\n",
    "        print(num,\"is a prime number \")\n",
    "else:\n",
    "    print(num,\"is not a prime number\")"
   ]
  },
  {
   "cell_type": "code",
   "execution_count": 6,
   "metadata": {},
   "outputs": [
    {
     "name": "stdout",
     "output_type": "stream",
     "text": [
      "enter a string:ashok\n",
      "It's all alphabets\n"
     ]
    }
   ],
   "source": [
    "string=raw_input(\"enter a string:\")\n",
    "if string.isalpha():\n",
    "    print(\"It's all alphabets\")\n",
    "else:\n",
    "    print(\"It's not the alphabets\")"
   ]
  },
  {
   "cell_type": "code",
   "execution_count": 7,
   "metadata": {},
   "outputs": [
    {
     "name": "stdout",
     "output_type": "stream",
     "text": [
      "enter a string:ash1\n",
      "It's not the alphabets\n"
     ]
    }
   ],
   "source": [
    "string=raw_input(\"enter a string:\")\n",
    "if string.isalpha():\n",
    "    print(\"It's all alphabets\")\n",
    "else:\n",
    "    print(\"It's not the alphabets\")"
   ]
  },
  {
   "cell_type": "code",
   "execution_count": 9,
   "metadata": {},
   "outputs": [
    {
     "name": "stdout",
     "output_type": "stream",
     "text": [
      "enter a string111\n",
      "it's all digits\n"
     ]
    }
   ],
   "source": [
    "String=raw_input(\"enter a string:\")\n",
    "if String.isdigit():\n",
    "    print(\"it's all digits\")\n",
    "else:\n",
    "    print(\"its not all digits\")"
   ]
  },
  {
   "cell_type": "code",
   "execution_count": 10,
   "metadata": {},
   "outputs": [
    {
     "name": "stdout",
     "output_type": "stream",
     "text": [
      "enter a string111a\n",
      "its not all digits\n"
     ]
    }
   ],
   "source": [
    "String=raw_input(\"enter a string:\")\n",
    "if String.isdigit():\n",
    "    print(\"it's all digits\")\n",
    "else:\n",
    "    print(\"its not all digits\")"
   ]
  },
  {
   "cell_type": "code",
   "execution_count": 12,
   "metadata": {},
   "outputs": [
    {
     "name": "stdout",
     "output_type": "stream",
     "text": [
      "enter a stringasHok\n",
      "False\n"
     ]
    }
   ],
   "source": [
    "String=raw_input(\"enter a string:\")\n",
    "if String.isupper():\n",
    "    print(\"True\")\n",
    "else:\n",
    "    print(\"False\")"
   ]
  },
  {
   "cell_type": "code",
   "execution_count": 13,
   "metadata": {},
   "outputs": [
    {
     "name": "stdout",
     "output_type": "stream",
     "text": [
      "enter a stringashok\n",
      "True\n"
     ]
    }
   ],
   "source": [
    "String=raw_input(\"enter a string:\")\n",
    "if String.islower():\n",
    "    print(\"True\")\n",
    "else:\n",
    "    print(\"False\")"
   ]
  },
  {
   "cell_type": "code",
   "execution_count": 14,
   "metadata": {},
   "outputs": [
    {
     "name": "stdout",
     "output_type": "stream",
     "text": [
      "enter a stringASHok\n",
      "False\n"
     ]
    }
   ],
   "source": [
    "String=raw_input(\"enter a string:\")\n",
    "if String.islower():\n",
    "    print(\"True\")\n",
    "else:\n",
    "    print(\"False\")"
   ]
  },
  {
   "cell_type": "code",
   "execution_count": 5,
   "metadata": {},
   "outputs": [
    {
     "name": "stdout",
     "output_type": "stream",
     "text": [
      "enter a string:1,1,1\n",
      "False\n"
     ]
    }
   ],
   "source": [
    "String=raw_input(\"enter a string:\")#doubt\n",
    "\n",
    "if type(String) == int:\n",
    "    print(\"True\")\n",
    "else:\n",
    "    print(\"False\")"
   ]
  },
  {
   "cell_type": "code",
   "execution_count": 4,
   "metadata": {},
   "outputs": [],
   "source": [
    "string=(\"the string is :ashok\")\n",
    "if string==ord('a') - ord('A'):\n",
    "    print(\"%Sring\"%n)\n"
   ]
  },
  {
   "cell_type": "code",
   "execution_count": 11,
   "metadata": {},
   "outputs": [
    {
     "name": "stdout",
     "output_type": "stream",
     "text": [
      "1\n",
      "3\n",
      "5\n",
      "7\n",
      "9\n",
      "11\n",
      "13\n",
      "15\n",
      "17\n",
      "19\n",
      "21\n",
      "23\n",
      "25\n",
      "27\n",
      "29\n",
      "31\n",
      "33\n",
      "35\n",
      "37\n",
      "39\n",
      "41\n",
      "43\n",
      "45\n",
      "47\n",
      "49\n",
      "51\n",
      "53\n",
      "55\n",
      "57\n",
      "59\n",
      "61\n",
      "63\n",
      "65\n",
      "67\n",
      "69\n",
      "71\n",
      "73\n",
      "75\n",
      "77\n",
      "79\n",
      "81\n",
      "83\n",
      "85\n",
      "87\n",
      "89\n",
      "91\n",
      "93\n",
      "95\n",
      "97\n",
      "99\n"
     ]
    }
   ],
   "source": [
    "for i in range(1, 100, 2):\n",
    "    print(i)"
   ]
  },
  {
   "cell_type": "code",
   "execution_count": 12,
   "metadata": {},
   "outputs": [
    {
     "name": "stdout",
     "output_type": "stream",
     "text": [
      "Enter number:10\n",
      "factors of the given number: 10\n",
      "1\n",
      "2\n",
      "5\n",
      "10\n"
     ]
    }
   ],
   "source": [
    "n=raw_input(\"Enter number:\")\n",
    "n=int(n)\n",
    "i=1\n",
    "print \"factors of the given number: %s\"%n\n",
    "while i<=n:\n",
    "    if n%i==0:\n",
    "        print i\n",
    "    i=i+1"
   ]
  },
  {
   "cell_type": "code",
   "execution_count": 1,
   "metadata": {},
   "outputs": [
    {
     "name": "stdout",
     "output_type": "stream",
     "text": [
      "233168\n"
     ]
    }
   ],
   "source": [
    "total_sum = 0\n",
    "for i in range(1000):\n",
    "    if (i%3 == 0 or i%5 == 0):\n",
    "        total_sum = total_sum+i\n",
    "print total_sum"
   ]
  },
  {
   "cell_type": "code",
   "execution_count": 24,
   "metadata": {},
   "outputs": [
    {
     "name": "stdout",
     "output_type": "stream",
     "text": [
      "The largest number between 100 , 140 and 120 is 140\n"
     ]
    }
   ],
   "source": [
    "num1 = 100\n",
    "num2 = 140\n",
    "num3 = 120\n",
    "if (num1 >= num2) and (num1 >= num3):\n",
    "    largest = num1\n",
    "elif (num2 >= num1) and (num2 >= num3):\n",
    "    largest = num2\n",
    "else:\n",
    "    largest = num3\n",
    "    \n",
    "print\"The largest number between\",num1,\",\",num2,\"and\",num3,\"is\",largest\n"
   ]
  },
  {
   "cell_type": "code",
   "execution_count": null,
   "metadata": {},
   "outputs": [],
   "source": []
  }
 ],
 "metadata": {
  "kernelspec": {
   "display_name": "Python 2",
   "language": "python",
   "name": "python2"
  },
  "language_info": {
   "codemirror_mode": {
    "name": "ipython",
    "version": 2
   },
   "file_extension": ".py",
   "mimetype": "text/x-python",
   "name": "python",
   "nbconvert_exporter": "python",
   "pygments_lexer": "ipython2",
   "version": "2.7.15"
  }
 },
 "nbformat": 4,
 "nbformat_minor": 2
}
