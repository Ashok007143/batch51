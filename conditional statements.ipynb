{
 "cells": [
  {
   "cell_type": "code",
   "execution_count": 1,
   "metadata": {},
   "outputs": [
    {
     "name": "stdout",
     "output_type": "stream",
     "text": [
      "st1\n",
      "st2\n",
      "st3\n"
     ]
    }
   ],
   "source": [
    "print \"st1\"\n",
    "print \"st2\"\n",
    "print \"st3\""
   ]
  },
  {
   "cell_type": "code",
   "execution_count": 2,
   "metadata": {},
   "outputs": [],
   "source": [
    "a=10\n",
    "b=20\n",
    "c=a+b\n",
    "d=a-b"
   ]
  },
  {
   "cell_type": "code",
   "execution_count": 3,
   "metadata": {},
   "outputs": [
    {
     "name": "stdout",
     "output_type": "stream",
     "text": [
      "a is big\n",
      "b is big\n"
     ]
    }
   ],
   "source": [
    "a=10\n",
    "b=20\n",
    "print \"a is big\"\n",
    "print \"b is big\""
   ]
  },
  {
   "cell_type": "code",
   "execution_count": 4,
   "metadata": {},
   "outputs": [
    {
     "data": {
      "text/plain": [
       "False"
      ]
     },
     "execution_count": 4,
     "metadata": {},
     "output_type": "execute_result"
    }
   ],
   "source": [
    "# boolean expressions\n",
    "10>20\n"
   ]
  },
  {
   "cell_type": "code",
   "execution_count": 5,
   "metadata": {},
   "outputs": [
    {
     "data": {
      "text/plain": [
       "False"
      ]
     },
     "execution_count": 5,
     "metadata": {},
     "output_type": "execute_result"
    }
   ],
   "source": [
    "10>20 and 30>20"
   ]
  },
  {
   "cell_type": "code",
   "execution_count": 6,
   "metadata": {},
   "outputs": [
    {
     "data": {
      "text/plain": [
       "True"
      ]
     },
     "execution_count": 6,
     "metadata": {},
     "output_type": "execute_result"
    }
   ],
   "source": [
    "bool(1)"
   ]
  },
  {
   "cell_type": "code",
   "execution_count": 7,
   "metadata": {},
   "outputs": [
    {
     "data": {
      "text/plain": [
       "False"
      ]
     },
     "execution_count": 7,
     "metadata": {},
     "output_type": "execute_result"
    }
   ],
   "source": [
    "bool(0)"
   ]
  },
  {
   "cell_type": "code",
   "execution_count": 8,
   "metadata": {},
   "outputs": [
    {
     "data": {
      "text/plain": [
       "True"
      ]
     },
     "execution_count": 8,
     "metadata": {},
     "output_type": "execute_result"
    }
   ],
   "source": [
    "bool(10)"
   ]
  },
  {
   "cell_type": "code",
   "execution_count": 9,
   "metadata": {},
   "outputs": [
    {
     "data": {
      "text/plain": [
       "True"
      ]
     },
     "execution_count": 9,
     "metadata": {},
     "output_type": "execute_result"
    }
   ],
   "source": [
    "bool(-10)"
   ]
  },
  {
   "cell_type": "code",
   "execution_count": 10,
   "metadata": {},
   "outputs": [
    {
     "data": {
      "text/plain": [
       "False"
      ]
     },
     "execution_count": 10,
     "metadata": {},
     "output_type": "execute_result"
    }
   ],
   "source": [
    "bool(0+0j)"
   ]
  },
  {
   "cell_type": "code",
   "execution_count": 11,
   "metadata": {},
   "outputs": [
    {
     "data": {
      "text/plain": [
       "True"
      ]
     },
     "execution_count": 11,
     "metadata": {},
     "output_type": "execute_result"
    }
   ],
   "source": [
    "bool([10,20,0])"
   ]
  },
  {
   "cell_type": "code",
   "execution_count": 13,
   "metadata": {},
   "outputs": [
    {
     "name": "stdout",
     "output_type": "stream",
     "text": [
      "a is big\n",
      "thank you\n"
     ]
    }
   ],
   "source": [
    "a=100\n",
    "b=20\n",
    "if True:\n",
    "     print \"a is big\"\n",
    "else:        \n",
    "     print \"b is big\"\n",
    "print \"thank you\"        "
   ]
  },
  {
   "cell_type": "code",
   "execution_count": 14,
   "metadata": {},
   "outputs": [
    {
     "data": {
      "text/plain": [
       "6"
      ]
     },
     "execution_count": 14,
     "metadata": {},
     "output_type": "execute_result"
    }
   ],
   "source": [
    "s=\"python\"\n",
    "len(s)"
   ]
  },
  {
   "cell_type": "code",
   "execution_count": 15,
   "metadata": {},
   "outputs": [
    {
     "name": "stdout",
     "output_type": "stream",
     "text": [
      "Enter a string:python\n",
      "python 6\n"
     ]
    }
   ],
   "source": [
    "s=raw_input(\"Enter a string:\")\n",
    "print s,len(s)"
   ]
  },
  {
   "cell_type": "code",
   "execution_count": 16,
   "metadata": {},
   "outputs": [
    {
     "name": "stdout",
     "output_type": "stream",
     "text": [
      "Enter a string:\n",
      " 0\n"
     ]
    }
   ],
   "source": [
    "s=raw_input(\"Enter a string:\")\n",
    "print s,len(s)"
   ]
  },
  {
   "cell_type": "code",
   "execution_count": 20,
   "metadata": {},
   "outputs": [
    {
     "name": "stdout",
     "output_type": "stream",
     "text": [
      "Enter a string:\n",
      "invalid string\n",
      "thank you\n"
     ]
    }
   ],
   "source": [
    "s=raw_input(\"Enter a string:\")\n",
    "if len(s)==0:\n",
    "     print\"invalid string\"\n",
    "else:\n",
    "    print s,len(s)\n",
    "print \"thank you\"\n"
   ]
  },
  {
   "cell_type": "code",
   "execution_count": 22,
   "metadata": {},
   "outputs": [
    {
     "name": "stdout",
     "output_type": "stream",
     "text": [
      "Enter a string:\n",
      "True\n",
      "invalid string\n",
      "thank you\n"
     ]
    }
   ],
   "source": [
    "s=raw_input(\"Enter a string:\")\n",
    "len_s=len (s)\n",
    "print bool(len_s==0)\n",
    "if len(s)==0:\n",
    "     print\"invalid string\"\n",
    "else:\n",
    "    print s,len(s)\n",
    "print \"thank you\""
   ]
  },
  {
   "cell_type": "code",
   "execution_count": 23,
   "metadata": {},
   "outputs": [
    {
     "name": "stdout",
     "output_type": "stream",
     "text": [
      "Enter a string:python\n",
      "if block started\n",
      "python\n",
      "if block ended\n",
      "thank you\n"
     ]
    }
   ],
   "source": [
    "s=raw_input(\"Enter a string:\")\n",
    "if s:\n",
    "    print \"if block started\"\n",
    "    print s\n",
    "    print \"if block ended\"\n",
    "else:\n",
    "    print \"else block started\"\n",
    "    print \"invalid string\"\n",
    "    print \"else block ended\"\n",
    "print \"thank you\""
   ]
  },
  {
   "cell_type": "code",
   "execution_count": 24,
   "metadata": {},
   "outputs": [
    {
     "name": "stdout",
     "output_type": "stream",
     "text": [
      "Enter a string:yyy\n",
      "if block started\n",
      "yyy\n",
      "if block ended\n"
     ]
    }
   ],
   "source": [
    "s=raw_input(\"Enter a string:\")\n",
    "if s:\n",
    "    print \"if block started\"\n",
    "    print s\n",
    "    print \"if block ended\""
   ]
  },
  {
   "cell_type": "code",
   "execution_count": 26,
   "metadata": {},
   "outputs": [
    {
     "name": "stdout",
     "output_type": "stream",
     "text": [
      "Enter a string:\n",
      "thank you\n"
     ]
    }
   ],
   "source": [
    "s=raw_input(\"Enter a string:\")\n",
    "if s:\n",
    "    print \"if block started\"\n",
    "    print s\n",
    "    print \"if block ended\"\n",
    "print \"thank you\"\n"
   ]
  },
  {
   "cell_type": "code",
   "execution_count": 1,
   "metadata": {},
   "outputs": [
    {
     "name": "stdout",
     "output_type": "stream",
     "text": [
      "Enter fruits cost:12\n",
      "one kg mango 90rs\n",
      "12\n",
      "one kg orange 100rs\n",
      "12\n",
      "one kg apple 120rs\n",
      "thank you\n"
     ]
    }
   ],
   "source": [
    "s=raw_input(\"Enter fruits cost:\")\n",
    "if s:\n",
    "    print \"one kg mango 90rs\"\n",
    "    print s\n",
    "    print \"one kg orange 100rs\"\n",
    "    print s\n",
    "    print \"one kg apple 120rs\"\n",
    "else:\n",
    "    print\"not listed\"\n",
    "print \"thank you\"   "
   ]
  },
  {
   "cell_type": "code",
   "execution_count": 5,
   "metadata": {},
   "outputs": [
    {
     "name": "stdout",
     "output_type": "stream",
     "text": [
      "Fruits cost Menu:\n",
      "\t1.Mango\n",
      "\t2.Orange\n",
      "\t3.Apple\n",
      "Enter an option4\n",
      "not listed\n",
      "Thank you\n"
     ]
    }
   ],
   "source": [
    "print \"Fruits cost Menu:\\n\\t1.Mango\\n\\t2.Orange\\n\\t3.Apple\"\n",
    "opt=raw_input(\"Enter an option\")\n",
    "if opt==\"1\":\n",
    "    print\"One kg mango 90rs\"\n",
    "if opt==\"2\":\n",
    "    print\"One kg Orange 100rs\"\n",
    "if opt==\"3\":\n",
    "    print\"One kg Apple 120rs\"\n",
    "else:\n",
    "    print\"not listed\"\n",
    "print \"Thank you\"          "
   ]
  },
  {
   "cell_type": "code",
   "execution_count": 7,
   "metadata": {},
   "outputs": [
    {
     "name": "stdout",
     "output_type": "stream",
     "text": [
      "Fruits cost Menu:\n",
      "\t1.Mango\n",
      "\t2.Orange\n",
      "\t3.Apple\n",
      "Enter an option1\n",
      "One kg mango 90rs\n",
      "Thank you\n"
     ]
    }
   ],
   "source": [
    "print \"Fruits cost Menu:\\n\\t1.Mango\\n\\t2.Orange\\n\\t3.Apple\"\n",
    "opt=raw_input(\"Enter an option\")\n",
    "if opt==\"1\":\n",
    "    print\"One kg mango 90rs\"\n",
    "if opt==\"2\":\n",
    "    print\"One kg Orange 100rs\"\n",
    "if opt==\"3\":\n",
    "    print\"One kg Apple 120rs\"\n",
    "if opt>=\"4\":\n",
    "    print\"not listed\"\n",
    "print \"Thank you\"  "
   ]
  },
  {
   "cell_type": "code",
   "execution_count": 8,
   "metadata": {},
   "outputs": [
    {
     "name": "stdout",
     "output_type": "stream",
     "text": [
      "Fruits cost Menu:\n",
      "\t1.Mango\n",
      "\t2.Orange\n",
      "\t3.Apple\n",
      "Enter an option1\n",
      "One kg mango 90rs\n",
      "Thank you\n"
     ]
    }
   ],
   "source": [
    "print \"Fruits cost Menu:\\n\\t1.Mango\\n\\t2.Orange\\n\\t3.Apple\"\n",
    "opt=raw_input(\"Enter an option\")\n",
    "if opt==\"1\":\n",
    "    print\"One kg mango 90rs\"\n",
    "elif opt==\"2\":\n",
    "    print\"One kg Orange 100rs\"\n",
    "elif opt==\"3\":\n",
    "    print\"One kg Apple 120rs\"\n",
    "else:\n",
    "    print\"not listed\"\n",
    "print \"Thank you\"  "
   ]
  },
  {
   "cell_type": "code",
   "execution_count": 1,
   "metadata": {},
   "outputs": [
    {
     "name": "stdout",
     "output_type": "stream",
     "text": [
      "Fruits cost Menu:\n",
      "\t1.Mango\n",
      "\t2.Orange\n",
      "\t3.Apple\n",
      "Enter an option:12\n",
      "not listed\n",
      "Thank you\n"
     ]
    }
   ],
   "source": [
    "print \"Fruits cost Menu:\\n\\t1.Mango\\n\\t2.Orange\\n\\t3.Apple\"\n",
    "opt=raw_input(\"Enter an option:\")\n",
    "if opt:\n",
    "    if opt==\"1\":\n",
    "        print\"One kg mango 90rs\"\n",
    "    elif opt==\"2\":\n",
    "        print\"One kg Orange 100rs\"\n",
    "    elif opt==\"3\":\n",
    "        print\"One kg Apple 120rs\"\n",
    "    else:\n",
    "        print\"not listed\"\n",
    "else:\n",
    "    print\"invalid input\"\n",
    "    \n",
    "print \"Thank you\"  "
   ]
  },
  {
   "cell_type": "code",
   "execution_count": 2,
   "metadata": {},
   "outputs": [
    {
     "name": "stdout",
     "output_type": "stream",
     "text": [
      "True and True= True\n",
      "True and False= False\n",
      "False and True= False\n",
      "False and False= False\n"
     ]
    }
   ],
   "source": [
    "# and or xor\n",
    "print \"True and True=\",True and True\n",
    "print \"True and False=\",True and False\n",
    "print \"False and True=\",False and True\n",
    "print \"False and False=\",False and False\n",
    "\n"
   ]
  },
  {
   "cell_type": "code",
   "execution_count": null,
   "metadata": {},
   "outputs": [],
   "source": []
  }
 ],
 "metadata": {
  "kernelspec": {
   "display_name": "Python 2",
   "language": "python",
   "name": "python2"
  },
  "language_info": {
   "codemirror_mode": {
    "name": "ipython",
    "version": 2
   },
   "file_extension": ".py",
   "mimetype": "text/x-python",
   "name": "python",
   "nbconvert_exporter": "python",
   "pygments_lexer": "ipython2",
   "version": "2.7.15"
  }
 },
 "nbformat": 4,
 "nbformat_minor": 2
}
