{
 "cells": [
  {
   "cell_type": "code",
   "execution_count": 1,
   "metadata": {},
   "outputs": [
    {
     "name": "stdout",
     "output_type": "stream",
     "text": [
      "no of people:11\n",
      "no of seats:11\n"
     ]
    },
    {
     "data": {
      "text/plain": [
       "1.0"
      ]
     },
     "execution_count": 1,
     "metadata": {},
     "output_type": "execute_result"
    }
   ],
   "source": [
    "a=input(\"no of people:\")\n",
    "b=input(\"no of seats:\")\n",
    "import math\n",
    "math.ceil(a/b) #No. sof buses"
   ]
  },
  {
   "cell_type": "code",
   "execution_count": 2,
   "metadata": {},
   "outputs": [
    {
     "name": "stdout",
     "output_type": "stream",
     "text": [
      "Enter a temperature in Fahrenheit: 98.6\n",
      "Temperature: 98.6 Fahrenheit =  37.0  C\n"
     ]
    }
   ],
   "source": [
    "Fahrenheit=input(\"Enter a temperature in Fahrenheit: \")\n",
    "Celsius = (Fahrenheit - 32) * 5.0/9.0\n",
    "print \"Temperature:\", Fahrenheit, \"Fahrenheit = \", Celsius, \" C\""
   ]
  },
  {
   "cell_type": "code",
   "execution_count": 3,
   "metadata": {},
   "outputs": [
    {
     "name": "stdout",
     "output_type": "stream",
     "text": [
      "Enter a temperature in Celsius: 37\n",
      "Temperature: 37 Celsius =  98.6  F\n"
     ]
    }
   ],
   "source": [
    "Celsius=input(\"Enter a temperature in Celsius: \")\n",
    "Fahrenheit = 9.0/5.0 * Celsius + 32\n",
    "print \"Temperature:\", Celsius, \"Celsius = \",Fahrenheit, \" F\""
   ]
  },
  {
   "cell_type": "code",
   "execution_count": 13,
   "metadata": {},
   "outputs": [
    {
     "name": "stdout",
     "output_type": "stream",
     "text": [
      "enter a number:22\n",
      "(22, 'is not a prime number')\n"
     ]
    }
   ],
   "source": [
    "num=input(\"enter a number:\")\n",
    "if num>1:\n",
    "    for i in range(2,num):\n",
    "        if(num%i)==0:\n",
    "            print(num,\"is not a prime number\")\n",
    "            break\n",
    "    else:\n",
    "        print(num,\"is a prime number \")\n",
    "else:\n",
    "    print(num,\"is not a prime number\")"
   ]
  },
  {
   "cell_type": "code",
   "execution_count": 15,
   "metadata": {},
   "outputs": [
    {
     "name": "stdout",
     "output_type": "stream",
     "text": [
      "enter a number:3\n",
      "(3, 'is a prime number ')\n"
     ]
    }
   ],
   "source": [
    "num=input(\"enter a number:\") #looping\n",
    "if num>1:\n",
    "    for i in range(2,num):\n",
    "        if(num%i)==0:\n",
    "            print(num,\"is not a prime number\")\n",
    "            break\n",
    "    else:\n",
    "        print(num,\"is a prime number \")\n",
    "else:\n",
    "    print(num,\"is not a prime number\")"
   ]
  },
  {
   "cell_type": "code",
   "execution_count": 18,
   "metadata": {},
   "outputs": [
    {
     "name": "stdout",
     "output_type": "stream",
     "text": [
      "Enter a number: 2\n",
      "2 is Even\n"
     ]
    }
   ],
   "source": [
    "num =input(\"Enter a number: \") #conditional\n",
    "if (num % 2) == 0:\n",
    "    print(\"{0} is Even\".format(num))\n",
    "else:\n",
    "    print(\"{0} is Odd\".format(num))"
   ]
  },
  {
   "cell_type": "code",
   "execution_count": 19,
   "metadata": {},
   "outputs": [
    {
     "name": "stdout",
     "output_type": "stream",
     "text": [
      "enter a number:2\n",
      "positive number \n"
     ]
    }
   ],
   "source": [
    "num=input(\"enter a number:\")#conditional\n",
    "if num>0:\n",
    "    print(\"positive number \")\n",
    "elif num==0:\n",
    "    print(\"zero\")\n",
    "else:\n",
    "    print(\"negative number\")"
   ]
  },
  {
   "cell_type": "code",
   "execution_count": 20,
   "metadata": {},
   "outputs": [
    {
     "name": "stdout",
     "output_type": "stream",
     "text": [
      "enter a number:-2\n",
      "negative number\n"
     ]
    }
   ],
   "source": [
    "num=input(\"enter a number:\")#conditional\n",
    "if num>0:\n",
    "    print(\"positive number \")\n",
    "elif num==0:\n",
    "    print(\"zero\")\n",
    "else:\n",
    "    print(\"negative number\")"
   ]
  },
  {
   "cell_type": "code",
   "execution_count": 25,
   "metadata": {},
   "outputs": [
    {
     "name": "stdout",
     "output_type": "stream",
     "text": [
      "Enter a string:ashok\n",
      "5\n"
     ]
    }
   ],
   "source": [
    "string=raw_input(\"Enter a string:\")#conditional\n",
    "if string!=0:\n",
    "    print(len(string))\n",
    "else:\n",
    "    print(\"error\")"
   ]
  },
  {
   "cell_type": "code",
   "execution_count": 29,
   "metadata": {},
   "outputs": [
    {
     "name": "stdout",
     "output_type": "stream",
     "text": [
      "Enter a string:\n",
      "error\n"
     ]
    }
   ],
   "source": [
    "string=raw_input(\"Enter a string:\")#conditional\n",
    "if len(string)==0:\n",
    "    print(\"error\")\n",
    "    \n",
    "else:\n",
    "    print(len(string))\n",
    "    "
   ]
  },
  {
   "cell_type": "code",
   "execution_count": 30,
   "metadata": {},
   "outputs": [
    {
     "name": "stdout",
     "output_type": "stream",
     "text": [
      "Enter a string:ashok\n",
      "5\n"
     ]
    }
   ],
   "source": [
    "string=raw_input(\"Enter a string:\")#conditional\n",
    "if len(string)==0:\n",
    "    print(\"error\")\n",
    "    \n",
    "else:\n",
    "    print(len(string))\n",
    "    "
   ]
  },
  {
   "cell_type": "code",
   "execution_count": null,
   "metadata": {},
   "outputs": [],
   "source": [
    "string=input(\"Enter a string:\")\n"
   ]
  }
 ],
 "metadata": {
  "kernelspec": {
   "display_name": "Python 2",
   "language": "python",
   "name": "python2"
  },
  "language_info": {
   "codemirror_mode": {
    "name": "ipython",
    "version": 2
   },
   "file_extension": ".py",
   "mimetype": "text/x-python",
   "name": "python",
   "nbconvert_exporter": "python",
   "pygments_lexer": "ipython2",
   "version": "2.7.15"
  }
 },
 "nbformat": 4,
 "nbformat_minor": 2
}
