{
 "cells": [
  {
   "cell_type": "code",
   "execution_count": 3,
   "metadata": {},
   "outputs": [
    {
     "name": "stdout",
     "output_type": "stream",
     "text": [
      "enter a number:12\n",
      "(12, 'is not a prime number')\n"
     ]
    }
   ],
   "source": [
    "num=input(\"enter a number:\") #looping\n",
    "if num>1:\n",
    "    for i in range(2,num):\n",
    "        if(num%i)==0:\n",
    "            print(num,\"is not a prime number\")\n",
    "            break\n",
    "    else:\n",
    "        print(num,\"is a prime number \")\n",
    "else:\n",
    "    print(num,\"is not a prime number\")"
   ]
  },
  {
   "cell_type": "code",
   "execution_count": 6,
   "metadata": {},
   "outputs": [
    {
     "name": "stdout",
     "output_type": "stream",
     "text": [
      "enter a string:ashok\n",
      "It's all alphabets\n"
     ]
    }
   ],
   "source": [
    "string=raw_input(\"enter a string:\")\n",
    "if string.isalpha():\n",
    "    print(\"It's all alphabets\")\n",
    "else:\n",
    "    print(\"It's not the alphabets\")"
   ]
  },
  {
   "cell_type": "code",
   "execution_count": 7,
   "metadata": {},
   "outputs": [
    {
     "name": "stdout",
     "output_type": "stream",
     "text": [
      "enter a string:ash1\n",
      "It's not the alphabets\n"
     ]
    }
   ],
   "source": [
    "string=raw_input(\"enter a string:\")\n",
    "if string.isalpha():\n",
    "    print(\"It's all alphabets\")\n",
    "else:\n",
    "    print(\"It's not the alphabets\")"
   ]
  },
  {
   "cell_type": "code",
   "execution_count": 9,
   "metadata": {},
   "outputs": [
    {
     "name": "stdout",
     "output_type": "stream",
     "text": [
      "enter a string111\n",
      "it's all digits\n"
     ]
    }
   ],
   "source": [
    "String=raw_input(\"enter a string:\")\n",
    "if String.isdigit():\n",
    "    print(\"it's all digits\")\n",
    "else:\n",
    "    print(\"its not all digits\")"
   ]
  },
  {
   "cell_type": "code",
   "execution_count": 10,
   "metadata": {},
   "outputs": [
    {
     "name": "stdout",
     "output_type": "stream",
     "text": [
      "enter a string111a\n",
      "its not all digits\n"
     ]
    }
   ],
   "source": [
    "String=raw_input(\"enter a string:\")\n",
    "if String.isdigit():\n",
    "    print(\"it's all digits\")\n",
    "else:\n",
    "    print(\"its not all digits\")"
   ]
  },
  {
   "cell_type": "code",
   "execution_count": 12,
   "metadata": {},
   "outputs": [
    {
     "name": "stdout",
     "output_type": "stream",
     "text": [
      "enter a stringasHok\n",
      "False\n"
     ]
    }
   ],
   "source": [
    "String=raw_input(\"enter a string:\")\n",
    "if String.isupper():\n",
    "    print(\"True\")\n",
    "else:\n",
    "    print(\"False\")"
   ]
  },
  {
   "cell_type": "code",
   "execution_count": 13,
   "metadata": {},
   "outputs": [
    {
     "name": "stdout",
     "output_type": "stream",
     "text": [
      "enter a stringashok\n",
      "True\n"
     ]
    }
   ],
   "source": [
    "String=raw_input(\"enter a string:\")\n",
    "if String.islower():\n",
    "    print(\"True\")\n",
    "else:\n",
    "    print(\"False\")"
   ]
  },
  {
   "cell_type": "code",
   "execution_count": 14,
   "metadata": {},
   "outputs": [
    {
     "name": "stdout",
     "output_type": "stream",
     "text": [
      "enter a stringASHok\n",
      "False\n"
     ]
    }
   ],
   "source": [
    "String=raw_input(\"enter a string:\")\n",
    "if String.islower():\n",
    "    print(\"True\")\n",
    "else:\n",
    "    print(\"False\")"
   ]
  },
  {
   "cell_type": "code",
   "execution_count": null,
   "metadata": {},
   "outputs": [],
   "source": [
    "String=raw_input(\"enter a string:\")\n",
    "\n",
    "if type(String) == int:\n",
    "    print(\"Is a number\")\n",
    "else:\n",
    "    print(\"Not a number\")"
   ]
  },
  {
   "cell_type": "code",
   "execution_count": null,
   "metadata": {},
   "outputs": [],
   "source": [
    "num= int(input(\"Enter a number:\"))\n",
    "\n",
    "if type(num) == int:\n",
    "    print(\"Is a number\")\n",
    "else:\n",
    "    print(\"Not a number\")"
   ]
  },
  {
   "cell_type": "code",
   "execution_count": null,
   "metadata": {},
   "outputs": [],
   "source": [
    "num= int(input(\"Enter a number:\"))\n",
    "\n",
    "if type(num) == int:\n",
    "    print(\"Is a number\")\n",
    "else:\n",
    "    print(\"Not a number\")"
   ]
  },
  {
   "cell_type": "code",
   "execution_count": null,
   "metadata": {},
   "outputs": [],
   "source": []
  },
  {
   "cell_type": "code",
   "execution_count": null,
   "metadata": {},
   "outputs": [],
   "source": []
  }
 ],
 "metadata": {
  "kernelspec": {
   "display_name": "Python 2",
   "language": "python",
   "name": "python2"
  },
  "language_info": {
   "codemirror_mode": {
    "name": "ipython",
    "version": 2
   },
   "file_extension": ".py",
   "mimetype": "text/x-python",
   "name": "python",
   "nbconvert_exporter": "python",
   "pygments_lexer": "ipython2",
   "version": "2.7.15"
  }
 },
 "nbformat": 4,
 "nbformat_minor": 2
}
