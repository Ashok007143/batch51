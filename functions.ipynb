{
 "cells": [
  {
   "cell_type": "code",
   "execution_count": 1,
   "metadata": {},
   "outputs": [
    {
     "name": "stdout",
     "output_type": "stream",
     "text": [
      "program started\n",
      "other statements in program\n",
      "program ended\n"
     ]
    }
   ],
   "source": [
    "print \"program started\"\n",
    "def fun():\n",
    "    print\"fun started\"\n",
    "    print\"this is fun\"\n",
    "    print\"fun ended\"\n",
    "print\"other statements in program\"\n",
    "print \"program ended\""
   ]
  },
  {
   "cell_type": "code",
   "execution_count": 2,
   "metadata": {},
   "outputs": [
    {
     "name": "stdout",
     "output_type": "stream",
     "text": [
      "program started\n",
      "other statements in program\n",
      "fun started\n",
      "this is fun\n",
      "fun ended\n",
      "program ended\n"
     ]
    }
   ],
   "source": [
    "print \"program started\"\n",
    "def fun():\n",
    "    print\"fun started\"\n",
    "    print\"this is fun\"\n",
    "    print\"fun ended\"\n",
    "print\"other statements in program\"\n",
    "fun()\n",
    "print \"program ended\""
   ]
  },
  {
   "cell_type": "code",
   "execution_count": 3,
   "metadata": {},
   "outputs": [
    {
     "name": "stdout",
     "output_type": "stream",
     "text": [
      "program started\n",
      "other statements in program\n",
      "this is fun\n",
      "program ended\n",
      "this is fun\n",
      "this is fun\n"
     ]
    }
   ],
   "source": [
    "print \"program started\"\n",
    "def fun():\n",
    "   \n",
    "    print\"this is fun\"\n",
    "\n",
    "print\"other statements in program\"\n",
    "fun()\n",
    "print \"program ended\"\n",
    "fun()\n",
    "fun()\n"
   ]
  },
  {
   "cell_type": "code",
   "execution_count": 2,
   "metadata": {},
   "outputs": [
    {
     "name": "stdout",
     "output_type": "stream",
     "text": [
      "this is fun\n",
      "a=1000\n",
      "b=2000\n"
     ]
    }
   ],
   "source": [
    "def fun(a,b):\n",
    "    print(\"this is fun\")\n",
    "    print\"a=%s\"%a\n",
    "    print \"b=%s\"%b\n",
    "fun(1000,2000)    "
   ]
  },
  {
   "cell_type": "code",
   "execution_count": 6,
   "metadata": {},
   "outputs": [
    {
     "name": "stdout",
     "output_type": "stream",
     "text": [
      "a=1000, b=2000\n",
      "c=3000, d=-1000\n"
     ]
    }
   ],
   "source": [
    "def fun(a,b):\n",
    "    print \"a=%s, b=%s\"%(a,b)\n",
    "    c=a+b\n",
    "    d=a-b\n",
    "    print\"c=%s, d=%s\"%(c,d)\n",
    "fun(1000,2000)"
   ]
  },
  {
   "cell_type": "code",
   "execution_count": 7,
   "metadata": {},
   "outputs": [
    {
     "ename": "TypeError",
     "evalue": "fun() takes exactly 2 arguments (1 given)",
     "output_type": "error",
     "traceback": [
      "\u001b[1;31m---------------------------------------------------------------------------\u001b[0m",
      "\u001b[1;31mTypeError\u001b[0m                                 Traceback (most recent call last)",
      "\u001b[1;32m<ipython-input-7-f2bee7641fd6>\u001b[0m in \u001b[0;36m<module>\u001b[1;34m()\u001b[0m\n\u001b[0;32m      4\u001b[0m     \u001b[0md\u001b[0m\u001b[1;33m=\u001b[0m\u001b[0ma\u001b[0m\u001b[1;33m-\u001b[0m\u001b[0mb\u001b[0m\u001b[1;33m\u001b[0m\u001b[0m\n\u001b[0;32m      5\u001b[0m     \u001b[1;32mprint\u001b[0m\u001b[1;34m\"c=%s, d=%s\"\u001b[0m\u001b[1;33m%\u001b[0m\u001b[1;33m(\u001b[0m\u001b[0mc\u001b[0m\u001b[1;33m,\u001b[0m\u001b[0md\u001b[0m\u001b[1;33m)\u001b[0m\u001b[1;33m\u001b[0m\u001b[0m\n\u001b[1;32m----> 6\u001b[1;33m \u001b[0mfun\u001b[0m\u001b[1;33m(\u001b[0m\u001b[1;36m1000\u001b[0m\u001b[1;33m)\u001b[0m\u001b[1;33m\u001b[0m\u001b[0m\n\u001b[0m",
      "\u001b[1;31mTypeError\u001b[0m: fun() takes exactly 2 arguments (1 given)"
     ]
    }
   ],
   "source": [
    "def fun(a,b):\n",
    "    print \"a=%s, b=%s\"%(a,b)\n",
    "    c=a+b\n",
    "    d=a-b\n",
    "    print\"c=%s, d=%s\"%(c,d)\n",
    "fun(1000)   "
   ]
  },
  {
   "cell_type": "code",
   "execution_count": 10,
   "metadata": {},
   "outputs": [
    {
     "name": "stdout",
     "output_type": "stream",
     "text": [
      "10+20=30\n",
      "1000+2000=3000\n",
      "1.2+3.4=4.6\n",
      "123.4+45=168.4\n"
     ]
    }
   ],
   "source": [
    "def fun(a,b):\n",
    "    print\"%s+%s=%s\"%(a,b,a+b)\n",
    "fun(10,20)\n",
    "fun(1000,2000)\n",
    "fun(1.2,3.4)\n",
    "fun(123.4,45)"
   ]
  },
  {
   "cell_type": "code",
   "execution_count": 26,
   "metadata": {},
   "outputs": [
    {
     "name": "stdout",
     "output_type": "stream",
     "text": [
      "10*20*1*1*1*1=200\n",
      "10*20*30*40*50*60=720000000\n"
     ]
    }
   ],
   "source": [
    "def fun(a,b,c=1,d=1,e=1,f=1):\n",
    "    print\"%s*%s*%s*%s*%s*%s=%s\"%(a,b,c,d,e,f,a*b*c*d*e*f)\n",
    "fun(10,20) \n",
    "fun(10,20,30,40,50,60)"
   ]
  },
  {
   "cell_type": "code",
   "execution_count": 25,
   "metadata": {},
   "outputs": [
    {
     "name": "stdout",
     "output_type": "stream",
     "text": [
      "10*20*1*1*1*1=200\n",
      "10*20*30*1*1*1=6000\n"
     ]
    }
   ],
   "source": [
    "def fun(a,b,c=1,d=1,e=1,f=1):\n",
    "    print\"%s*%s*%s*%s*%s*%s=%s\"%(a,b,c,d,e,f,a*b*c*d*e*f)\n",
    "\n",
    "fun(10,20)\n",
    "fun(10,20,30)"
   ]
  },
  {
   "cell_type": "code",
   "execution_count": 19,
   "metadata": {},
   "outputs": [
    {
     "name": "stdout",
     "output_type": "stream",
     "text": [
      "10*20*1*1*1*1=200\n"
     ]
    },
    {
     "ename": "TypeError",
     "evalue": "fun() takes at least 1 argument (0 given)",
     "output_type": "error",
     "traceback": [
      "\u001b[1;31m---------------------------------------------------------------------------\u001b[0m",
      "\u001b[1;31mTypeError\u001b[0m                                 Traceback (most recent call last)",
      "\u001b[1;32m<ipython-input-19-5e802c4fece5>\u001b[0m in \u001b[0;36m<module>\u001b[1;34m()\u001b[0m\n\u001b[0;32m      2\u001b[0m     \u001b[1;32mprint\u001b[0m\u001b[1;34m\"%s*%s*%s*%s*%s*%s=%s\"\u001b[0m\u001b[1;33m%\u001b[0m\u001b[1;33m(\u001b[0m\u001b[0ma\u001b[0m\u001b[1;33m,\u001b[0m\u001b[0mb\u001b[0m\u001b[1;33m,\u001b[0m\u001b[0mc\u001b[0m\u001b[1;33m,\u001b[0m\u001b[0md\u001b[0m\u001b[1;33m,\u001b[0m\u001b[0me\u001b[0m\u001b[1;33m,\u001b[0m\u001b[0mf\u001b[0m\u001b[1;33m,\u001b[0m\u001b[0ma\u001b[0m\u001b[1;33m*\u001b[0m\u001b[0mb\u001b[0m\u001b[1;33m*\u001b[0m\u001b[0mc\u001b[0m\u001b[1;33m*\u001b[0m\u001b[0md\u001b[0m\u001b[1;33m*\u001b[0m\u001b[0me\u001b[0m\u001b[1;33m*\u001b[0m\u001b[0mf\u001b[0m\u001b[1;33m)\u001b[0m\u001b[1;33m\u001b[0m\u001b[0m\n\u001b[0;32m      3\u001b[0m \u001b[0mfun\u001b[0m\u001b[1;33m(\u001b[0m\u001b[1;36m10\u001b[0m\u001b[1;33m,\u001b[0m\u001b[1;36m20\u001b[0m\u001b[1;33m)\u001b[0m\u001b[1;33m\u001b[0m\u001b[0m\n\u001b[1;32m----> 4\u001b[1;33m \u001b[0mfun\u001b[0m\u001b[1;33m(\u001b[0m\u001b[1;33m)\u001b[0m\u001b[1;33m\u001b[0m\u001b[0m\n\u001b[0m",
      "\u001b[1;31mTypeError\u001b[0m: fun() takes at least 1 argument (0 given)"
     ]
    }
   ],
   "source": [
    "def fun(a,b=1,c=1,d=1,e=1,f=1):\n",
    "    print\"%s*%s*%s*%s*%s*%s=%s\"%(a,b,c,d,e,f,a*b*c*d*e*f)\n",
    "fun(10,20) \n",
    "fun()"
   ]
  },
  {
   "cell_type": "code",
   "execution_count": 35,
   "metadata": {},
   "outputs": [
    {
     "name": "stdout",
     "output_type": "stream",
     "text": [
      "\n",
      "    Name: anil\n",
      "    Date of birth: 1989-jan-8\n",
      "    date of join:2018-10-27\n",
      "    pan:sdsds321\n",
      "    passport:None\n",
      "    adhar:None\n",
      "    marital status:s\n",
      "    \n"
     ]
    }
   ],
   "source": [
    "def reg_person(name,doj,dob,pan,passport=None,adhar=None,marital_status=\"s\"):\n",
    "    print \"\"\"\n",
    "    Name: %s\n",
    "    Date of birth: %s\n",
    "    date of join:%s\n",
    "    pan:%s\n",
    "    passport:%s\n",
    "    adhar:%s\n",
    "    marital status:%s\n",
    "    \"\"\"%(name,dob,doj,pan,passport,adhar,marital_status)\n",
    "reg_person(\"anil\",\"2018-10-27\",\"1989-jan-8\",\"sdsds321\")    "
   ]
  },
  {
   "cell_type": "code",
   "execution_count": 1,
   "metadata": {},
   "outputs": [
    {
     "name": "stdout",
     "output_type": "stream",
     "text": [
      "    Name: anil\n",
      "    Date of birth: 1989-jan-8\n",
      "    date of join: 2018-10-27\n",
      "    pan: sdwewq321\n",
      "    passport: None\n",
      "    Adhar: None\n",
      "    mariatal status: s\n",
      "    \n"
     ]
    }
   ],
   "source": [
    "def reg_person(name,doj,dob,pan,passport=None, adhar=None, marital_status=\"s\"):\n",
    "    print \"\\\n",
    "    Name: %s\\n\\\n",
    "    Date of birth: %s\\n\\\n",
    "    date of join: %s\\n\\\n",
    "    pan: %s\\n\\\n",
    "    passport: %s\\n\\\n",
    "    Adhar: %s\\n\\\n",
    "    mariatal status: %s\\n\\\n",
    "    \"%(name, dob, doj, pan, passport, adhar, marital_status)\n",
    "reg_person(\"anil\",\"2018-10-27\",\"1989-jan-8\",\"sdwewq321\")\n"
   ]
  },
  {
   "cell_type": "code",
   "execution_count": 2,
   "metadata": {},
   "outputs": [
    {
     "name": "stdout",
     "output_type": "stream",
     "text": [
      "\n",
      "    Name: anil\n",
      "    Date of birth: 1989-jan-8\n",
      "    date of join: 2018-10-27\n",
      "    pan: sdwewq321\n",
      "    passport: None\n",
      "    Adhar: None\n",
      "    mariatal status: s\n",
      "    \n",
      "\n",
      "    Name: jay\n",
      "    Date of birth: 1990-jan-8\n",
      "    date of join: 2018-10-26\n",
      "    pan: sdwewq322\n",
      "    passport: passport1\n",
      "    Adhar: None\n",
      "    mariatal status: s\n",
      "    \n"
     ]
    }
   ],
   "source": [
    "def reg_person(name,doj,dob,pan,passport=None, adhar=None, marital_status=\"s\"):\n",
    "    print \"\"\"\n",
    "    Name: %s\n",
    "    Date of birth: %s\n",
    "    date of join: %s\n",
    "    pan: %s\n",
    "    passport: %s\n",
    "    Adhar: %s\n",
    "    mariatal status: %s\n",
    "    \"\"\"%(name, dob, doj, pan, passport, adhar, marital_status)\n",
    "reg_person(\"anil\",\"2018-10-27\",\"1989-jan-8\",\"sdwewq321\")\n",
    "reg_person(\"jay\",\"2018-10-26\",\"1990-jan-8\",\"sdwewq322\",\"passport1\")"
   ]
  },
  {
   "cell_type": "code",
   "execution_count": 1,
   "metadata": {},
   "outputs": [
    {
     "ename": "SyntaxError",
     "evalue": "invalid syntax (<ipython-input-1-f7682429d0d8>, line 1)",
     "output_type": "error",
     "traceback": [
      "\u001b[1;36m  File \u001b[1;32m\"<ipython-input-1-f7682429d0d8>\"\u001b[1;36m, line \u001b[1;32m1\u001b[0m\n\u001b[1;33m    def fun(a,b)\u001b[0m\n\u001b[1;37m                ^\u001b[0m\n\u001b[1;31mSyntaxError\u001b[0m\u001b[1;31m:\u001b[0m invalid syntax\n"
     ]
    }
   ],
   "source": [
    "def fun(a,b)\n",
    "    print\"%s+%s\"\n",
    "fun(10,20)    "
   ]
  },
  {
   "cell_type": "code",
   "execution_count": null,
   "metadata": {},
   "outputs": [],
   "source": []
  }
 ],
 "metadata": {
  "kernelspec": {
   "display_name": "Python 2",
   "language": "python",
   "name": "python2"
  },
  "language_info": {
   "codemirror_mode": {
    "name": "ipython",
    "version": 2
   },
   "file_extension": ".py",
   "mimetype": "text/x-python",
   "name": "python",
   "nbconvert_exporter": "python",
   "pygments_lexer": "ipython2",
   "version": "2.7.15"
  }
 },
 "nbformat": 4,
 "nbformat_minor": 2
}
