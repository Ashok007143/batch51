{
 "cells": [
  {
   "cell_type": "code",
   "execution_count": 1,
   "metadata": {},
   "outputs": [],
   "source": [
    "import keyword\n"
   ]
  },
  {
   "cell_type": "code",
   "execution_count": 2,
   "metadata": {},
   "outputs": [
    {
     "name": "stdout",
     "output_type": "stream",
     "text": [
      "['and', 'as', 'assert', 'break', 'class', 'continue', 'def', 'del', 'elif', 'else', 'except', 'exec', 'finally', 'for', 'from', 'global', 'if', 'import', 'in', 'is', 'lambda', 'not', 'or', 'pass', 'print', 'raise', 'return', 'try', 'while', 'with', 'yield']\n"
     ]
    }
   ],
   "source": [
    "print keyword.kwlist"
   ]
  },
  {
   "cell_type": "code",
   "execution_count": 3,
   "metadata": {},
   "outputs": [
    {
     "name": "stdout",
     "output_type": "stream",
     "text": [
      "True\n"
     ]
    }
   ],
   "source": [
    "print True"
   ]
  },
  {
   "cell_type": "code",
   "execution_count": 4,
   "metadata": {},
   "outputs": [],
   "source": [
    "True=10"
   ]
  },
  {
   "cell_type": "code",
   "execution_count": 5,
   "metadata": {},
   "outputs": [
    {
     "name": "stdout",
     "output_type": "stream",
     "text": [
      "10\n"
     ]
    }
   ],
   "source": [
    "print True"
   ]
  },
  {
   "cell_type": "code",
   "execution_count": 1,
   "metadata": {},
   "outputs": [
    {
     "name": "stdout",
     "output_type": "stream",
     "text": [
      "person details:\n",
      "Name :anil,Age:23,height:5.66,weight:56.66788\n"
     ]
    }
   ],
   "source": [
    "name=\"anil\"\n",
    "age=23\n",
    "weight=56.66788\n",
    "height=5.65786\n",
    "# personal details:\n",
    "# Name :anil,Age:23,height:5.66,weight:56.66788\n",
    "print \"person details:\"\n",
    "print \"Name :anil,Age:23,height:5.66,weight:56.66788\""
   ]
  },
  {
   "cell_type": "code",
   "execution_count": 3,
   "metadata": {},
   "outputs": [
    {
     "name": "stdout",
     "output_type": "stream",
     "text": [
      " personal details:\n",
      "Name: anil\n"
     ]
    }
   ],
   "source": [
    "name=\"anil\"\n",
    "age=23\n",
    "weight=56.66788\n",
    "height=5.65786\n",
    "# personal details:\n",
    "# Name :anil,Age:23,height:5.66,weight:56.66788\n",
    "print \"personal details:\"\n",
    "print \"Name:\",name"
   ]
  },
  {
   "cell_type": "code",
   "execution_count": 4,
   "metadata": {},
   "outputs": [
    {
     "name": "stdout",
     "output_type": "stream",
     "text": [
      "personal details:\n",
      "Name: anil Age 23 height 5.65786 weight 56.66788\n"
     ]
    }
   ],
   "source": [
    "name=\"anil\"\n",
    "age=23\n",
    "weight=56.66788\n",
    "height=5.65786\n",
    "# personal details:\n",
    "# Name :anil,Age:23,height:5.66,weight:56.66788\n",
    "print \"personal details:\"\n",
    "print \"Name:\",name,\"Age\",age,\"height\",height,\"weight\",weight"
   ]
  },
  {
   "cell_type": "code",
   "execution_count": 11,
   "metadata": {},
   "outputs": [
    {
     "ename": "SyntaxError",
     "evalue": "invalid syntax (<ipython-input-11-265aff812157>, line 8)",
     "output_type": "error",
     "traceback": [
      "\u001b[1;36m  File \u001b[1;32m\"<ipython-input-11-265aff812157>\"\u001b[1;36m, line \u001b[1;32m8\u001b[0m\n\u001b[1;33m    print \"Name:\"+name+\",Age:\"+age\",height:\"+height+\",weight:\"+weight\u001b[0m\n\u001b[1;37m                                           ^\u001b[0m\n\u001b[1;31mSyntaxError\u001b[0m\u001b[1;31m:\u001b[0m invalid syntax\n"
     ]
    }
   ],
   "source": [
    "name=\"anil\"\n",
    "age=23\n",
    "weight=56.66788\n",
    "height=5.65786\n",
    "# personal details:\n",
    "# Name :anil,Age:23,height:5.66,weight:56.66788\n",
    "print \"personal details:\"\n",
    "print \"Name:\"+name+\",Age:\"+age\",height:\"+height+\",weight:\"+weight"
   ]
  },
  {
   "cell_type": "code",
   "execution_count": 12,
   "metadata": {},
   "outputs": [
    {
     "ename": "TypeError",
     "evalue": "cannot concatenate 'str' and 'int' objects",
     "output_type": "error",
     "traceback": [
      "\u001b[1;31m---------------------------------------------------------------------------\u001b[0m",
      "\u001b[1;31mTypeError\u001b[0m                                 Traceback (most recent call last)",
      "\u001b[1;32m<ipython-input-12-50f125cad242>\u001b[0m in \u001b[0;36m<module>\u001b[1;34m()\u001b[0m\n\u001b[1;32m----> 1\u001b[1;33m \u001b[1;34m\"cost:\"\u001b[0m\u001b[1;33m+\u001b[0m\u001b[1;36m20\u001b[0m\u001b[1;33m\u001b[0m\u001b[0m\n\u001b[0m",
      "\u001b[1;31mTypeError\u001b[0m: cannot concatenate 'str' and 'int' objects"
     ]
    }
   ],
   "source": [
    "\"cost:\"+20"
   ]
  },
  {
   "cell_type": "code",
   "execution_count": 13,
   "metadata": {},
   "outputs": [
    {
     "data": {
      "text/plain": [
       "'cost:20'"
      ]
     },
     "execution_count": 13,
     "metadata": {},
     "output_type": "execute_result"
    },
    {
     "name": "stdout",
     "output_type": "stream",
     "text": [
      "\n"
     ]
    }
   ],
   "source": [
    "\"cost:\"+str(20)"
   ]
  },
  {
   "cell_type": "code",
   "execution_count": 14,
   "metadata": {},
   "outputs": [
    {
     "name": "stdout",
     "output_type": "stream",
     "text": [
      "personal details:\n",
      "Name:anil,Age:23,height:5.65786,weight:56.66788\n"
     ]
    }
   ],
   "source": [
    "name=\"anil\"\n",
    "age=23\n",
    "weight=56.66788\n",
    "height=5.65786\n",
    "# personal details:\n",
    "# Name :anil,Age:23,height:5.66,weight:56.66788\n",
    "print \"personal details:\"\n",
    "print \"Name:\"+name+\",Age:\"+str(age)+\",height:\"+str(height)+\",weight:\"+str(weight)"
   ]
  },
  {
   "cell_type": "code",
   "execution_count": 15,
   "metadata": {},
   "outputs": [
    {
     "ename": "TypeError",
     "evalue": "float() takes at most 1 argument (2 given)",
     "output_type": "error",
     "traceback": [
      "\u001b[1;31m---------------------------------------------------------------------------\u001b[0m",
      "\u001b[1;31mTypeError\u001b[0m                                 Traceback (most recent call last)",
      "\u001b[1;32m<ipython-input-15-be85e8920a92>\u001b[0m in \u001b[0;36m<module>\u001b[1;34m()\u001b[0m\n\u001b[1;32m----> 1\u001b[1;33m \u001b[0mfloat\u001b[0m \u001b[1;33m(\u001b[0m\u001b[1;34m\"55.788\"\u001b[0m\u001b[1;33m,\u001b[0m\u001b[1;36m2\u001b[0m\u001b[1;33m)\u001b[0m\u001b[1;33m\u001b[0m\u001b[0m\n\u001b[0m",
      "\u001b[1;31mTypeError\u001b[0m: float() takes at most 1 argument (2 given)"
     ]
    }
   ],
   "source": [
    "float (\"55.788\",2)"
   ]
  },
  {
   "cell_type": "code",
   "execution_count": 19,
   "metadata": {},
   "outputs": [
    {
     "name": "stdout",
     "output_type": "stream",
     "text": [
      "personal details:\n",
      "\tName:anil,Age:23,height:5.65786,weight:56.66788\n"
     ]
    }
   ],
   "source": [
    "name=\"anil\"\n",
    "age=23\n",
    "weight=56.66788\n",
    "height=5.65786\n",
    "# personal details:\n",
    "# Name :anil,Age:23,height:5.66,weight:56.66788\n",
    "print \"personal details:\\n\\tName:\"+name+\",Age:\"+str(age)+\",height:\"+str(height)+\",weight:\"+str(weight)"
   ]
  },
  {
   "cell_type": "code",
   "execution_count": 23,
   "metadata": {},
   "outputs": [
    {
     "ename": "SyntaxError",
     "evalue": "invalid syntax (<ipython-input-23-87959c9d6ba5>, line 2)",
     "output_type": "error",
     "traceback": [
      "\u001b[1;36m  File \u001b[1;32m\"<ipython-input-23-87959c9d6ba5>\"\u001b[1;36m, line \u001b[1;32m2\u001b[0m\n\u001b[1;33m    print \"It's a \"hot\" day in 'hyderabad'\"\u001b[0m\n\u001b[1;37m                     ^\u001b[0m\n\u001b[1;31mSyntaxError\u001b[0m\u001b[1;31m:\u001b[0m invalid syntax\n"
     ]
    }
   ],
   "source": [
    "# It's a \"hot\" day in 'hyderabad'\n",
    "print \"It's a \"hot\" day in 'hyderabad'\""
   ]
  },
  {
   "cell_type": "code",
   "execution_count": 22,
   "metadata": {},
   "outputs": [
    {
     "name": "stdout",
     "output_type": "stream",
     "text": [
      "It's a \"hot\" day in 'hyderabad'\n"
     ]
    }
   ],
   "source": [
    "print \"It's a \\\"hot\\\" day in 'hyderabad'\""
   ]
  },
  {
   "cell_type": "code",
   "execution_count": 29,
   "metadata": {},
   "outputs": [
    {
     "name": "stdout",
     "output_type": "stream",
     "text": [
      "It's a \"hot\" day in 'hyderabad'\n"
     ]
    }
   ],
   "source": [
    "print 'It\\'s a \"hot\" day in \\'hyderabad\\''"
   ]
  },
  {
   "cell_type": "code",
   "execution_count": 28,
   "metadata": {},
   "outputs": [
    {
     "name": "stdout",
     "output_type": "stream",
     "text": [
      "It's a \"hot\" day in 'hyderabad'\n"
     ]
    }
   ],
   "source": [
    "print 'It\\'s a \"hot\" day in \\'hyderabad\\''"
   ]
  },
  {
   "cell_type": "code",
   "execution_count": null,
   "metadata": {},
   "outputs": [],
   "source": []
  }
 ],
 "metadata": {
  "kernelspec": {
   "display_name": "Python 2",
   "language": "python",
   "name": "python2"
  },
  "language_info": {
   "codemirror_mode": {
    "name": "ipython",
    "version": 2
   },
   "file_extension": ".py",
   "mimetype": "text/x-python",
   "name": "python",
   "nbconvert_exporter": "python",
   "pygments_lexer": "ipython2",
   "version": "2.7.15"
  }
 },
 "nbformat": 4,
 "nbformat_minor": 2
}
